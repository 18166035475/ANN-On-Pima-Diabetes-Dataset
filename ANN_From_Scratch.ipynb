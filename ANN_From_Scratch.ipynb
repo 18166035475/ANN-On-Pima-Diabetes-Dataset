{
  "nbformat": 4,
  "nbformat_minor": 0,
  "metadata": {
    "colab": {
      "name": "ANN From Scratch.ipynb",
      "provenance": [],
      "authorship_tag": "ABX9TyNYiEBK7w6g97w1cxmFc4ys",
      "include_colab_link": true
    },
    "kernelspec": {
      "name": "python3",
      "display_name": "Python 3"
    }
  },
  "cells": [
    {
      "cell_type": "markdown",
      "metadata": {
        "id": "view-in-github",
        "colab_type": "text"
      },
      "source": [
        "<a href=\"https://colab.research.google.com/github/Rishikesh400/ANN-On-Pima-Diabetes-Dataset/blob/master/ANN_From_Scratch.ipynb\" target=\"_parent\"><img src=\"https://colab.research.google.com/assets/colab-badge.svg\" alt=\"Open In Colab\"/></a>"
      ]
    },
    {
      "cell_type": "code",
      "metadata": {
        "id": "ndz6fGC1eNq7",
        "colab_type": "code",
        "colab": {}
      },
      "source": [
        "import numpy as np\n",
        "import pandas as pd\n",
        "import matplotlib.pyplot as plt"
      ],
      "execution_count": 1,
      "outputs": []
    },
    {
      "cell_type": "code",
      "metadata": {
        "id": "wTZifysjl9xb",
        "colab_type": "code",
        "colab": {}
      },
      "source": [
        "import torch"
      ],
      "execution_count": 2,
      "outputs": []
    },
    {
      "cell_type": "markdown",
      "metadata": {
        "id": "6hfoHSEFndew",
        "colab_type": "text"
      },
      "source": [
        "## 1. Define independent variables and    dependent variable\n"
      ]
    },
    {
      "cell_type": "code",
      "metadata": {
        "id": "us_rrbhFl_nr",
        "colab_type": "code",
        "colab": {}
      },
      "source": [
        "input_set = np.array([[0, 1, 0],\n",
        "                      [0, 0, 1],\n",
        "                      [1, 0, 0],\n",
        "                      [1, 1, 0],\n",
        "                      [1, 1, 1],\n",
        "                      [0, 1, 1],\n",
        "                      [0, 1, 0]])"
      ],
      "execution_count": 3,
      "outputs": []
    },
    {
      "cell_type": "code",
      "metadata": {
        "id": "q9CIGUxmmlYc",
        "colab_type": "code",
        "colab": {}
      },
      "source": [
        "labels = np.array([[1, 0, 0, 1, 1, 0, 1]])\n",
        "labels = labels.reshape(7, 1) # To convert labels to vector"
      ],
      "execution_count": 4,
      "outputs": []
    },
    {
      "cell_type": "markdown",
      "metadata": {
        "id": "-QlngEl8nt--",
        "colab_type": "text"
      },
      "source": [
        "## 2. Define Hyperparameters"
      ]
    },
    {
      "cell_type": "code",
      "metadata": {
        "id": "oXkESmhOnGH_",
        "colab_type": "code",
        "colab": {}
      },
      "source": [
        "## Here we are going to use random.seed function so that \n",
        "## we can get the same random values whenever we execute the code\n",
        "np.random.seed(42)\n",
        "weights = np.random.rand(3, 1)\n",
        "bias = np.random.rand(1)\n",
        "## Learning Rate\n",
        "lr = 0.05"
      ],
      "execution_count": 5,
      "outputs": []
    },
    {
      "cell_type": "code",
      "metadata": {
        "id": "Lrmm29k6pM1c",
        "colab_type": "code",
        "colab": {}
      },
      "source": [
        "## Activation Function\n",
        "def sigmoid(x):\n",
        "  return 1 / (1 + np.exp(-x))\n",
        "## Derivative of sigmoid function\n",
        "def sigmoidDerivative(x):\n",
        "  return sigmoid(x) * (1 - sigmoid(x))"
      ],
      "execution_count": 6,
      "outputs": []
    },
    {
      "cell_type": "code",
      "metadata": {
        "id": "AHZnDitLqHma",
        "colab_type": "code",
        "colab": {}
      },
      "source": [
        "## We’ll start off by defining the number of epochs. \n",
        "## An epoch is the number of times we want to train the algorithm on our dataset. \n",
        "## We will train the algorithm on our data 25,000 times so our epoch will be 25000.\n",
        "\n",
        "for epoch in range(25000):\n",
        "  input = input_set\n",
        "  # xw = w1x1 + w2x2 + bias\n",
        "  xw = np.dot(input, weights) + bias\n",
        "  z = sigmoid(xw)\n",
        "  # This completes the forward part\n",
        "  # z contains predicted values\n",
        "  error = z - labels\n",
        "  #print(error.sum())\n",
        "  dcost = error\n",
        "  dpred = sigmoidDerivative(z)\n",
        "  z_del = dcost * dpred\n",
        "  input = input_set.T\n",
        "  weights = weights - lr * np.dot(input, z_del)\n",
        "  for num in z_del:\n",
        "    bias = bias - lr * num"
      ],
      "execution_count": 8,
      "outputs": []
    },
    {
      "cell_type": "code",
      "metadata": {
        "id": "kJmBAYS6vRvv",
        "colab_type": "code",
        "colab": {
          "base_uri": "https://localhost:8080/",
          "height": 34
        },
        "outputId": "9e0c0c03-ddd6-45fb-d3b9-2a2bf107870f"
      },
      "source": [
        "### Its time to make some predictions. Let's try with [1,0,0]\n",
        "single_pt = np.array([1, 0, 0])\n",
        "result = sigmoid(np.dot(single_pt, weights) + bias)\n",
        "print(result)"
      ],
      "execution_count": 9,
      "outputs": [
        {
          "output_type": "stream",
          "text": [
            "[0.0113482]\n"
          ],
          "name": "stdout"
        }
      ]
    },
    {
      "cell_type": "code",
      "metadata": {
        "id": "pTAaEE7GwNwS",
        "colab_type": "code",
        "colab": {}
      },
      "source": [
        ""
      ],
      "execution_count": null,
      "outputs": []
    }
  ]
}